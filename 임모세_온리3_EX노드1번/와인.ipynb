{
 "cells": [
  {
   "cell_type": "code",
   "execution_count": 9,
   "id": "52c8ca15",
   "metadata": {},
   "outputs": [],
   "source": [
    "from sklearn.datasets import load_wine\n",
    "from sklearn.model_selection import train_test_split\n",
    "from sklearn.tree import DecisionTreeClassifier\n",
    "from sklearn.ensemble import RandomForestClassifier\n",
    "from sklearn.svm import SVC\n",
    "from sklearn.linear_model import SGDClassifier, LogisticRegression\n",
    "from sklearn.metrics import classification_report\n",
    "from sklearn.preprocessing import MinMaxScaler"
   ]
  },
  {
   "cell_type": "markdown",
   "id": "261abf95",
   "metadata": {},
   "source": [
    "### 데이터 불러오고 다듬기"
   ]
  },
  {
   "cell_type": "code",
   "execution_count": 10,
   "id": "ed648b5c",
   "metadata": {},
   "outputs": [],
   "source": [
    "# 와인 데이터 불러오기\n",
    "wine = load_wine()\n",
    "\n",
    "# Feature Data 지정하기\n",
    "X = wine.data\n",
    "\n",
    "# Label Data 지정하기\n",
    "y = wine.target\n",
    "\n",
    "# Feature Data 스케일링\n",
    "scaler = MinMaxScaler()\n",
    "X_scaled = scaler.fit_transform(X)\n",
    "\n",
    "# Feature Data와 Label Data를 학습 데이터와 테스트 데이터로 나누기\n",
    "X_train, X_test, y_train, y_test = train_test_split(X_scaled, y, test_size=0.2, random_state=42)\n"
   ]
  },
  {
   "cell_type": "markdown",
   "id": "930badc1",
   "metadata": {},
   "source": [
    "### 모델생성"
   ]
  },
  {
   "cell_type": "code",
   "execution_count": 11,
   "id": "e75ba9a7",
   "metadata": {},
   "outputs": [],
   "source": [
    "# 의사결정트리 모델 생성\n",
    "dt = DecisionTreeClassifier(random_state=42)\n",
    "\n",
    "# 랜덤포레스트 모델 생성\n",
    "rf = RandomForestClassifier(random_state=42)\n",
    "\n",
    "# SVM 모델 생성\n",
    "svm = SVC(random_state=42)\n",
    "\n",
    "# SGD Classifier 모델 생성\n",
    "sgd = SGDClassifier(random_state=42)\n",
    "\n",
    "# Logistic Regression 모델 생성\n",
    "lr = LogisticRegression(random_state=42, max_iter=10000)"
   ]
  },
  {
   "cell_type": "markdown",
   "id": "c6d77f7d",
   "metadata": {},
   "source": [
    "### 각 모델 학습 및 예측"
   ]
  },
  {
   "cell_type": "code",
   "execution_count": 12,
   "id": "db8662c2",
   "metadata": {},
   "outputs": [
    {
     "name": "stdout",
     "output_type": "stream",
     "text": [
      "Model: Decision Tree\n",
      "              precision    recall  f1-score   support\n",
      "\n",
      "           0       0.93      0.93      0.93        14\n",
      "           1       0.93      1.00      0.97        14\n",
      "           2       1.00      0.88      0.93         8\n",
      "\n",
      "    accuracy                           0.94        36\n",
      "   macro avg       0.95      0.93      0.94        36\n",
      "weighted avg       0.95      0.94      0.94        36\n",
      "\n",
      "Model: Random Forest\n",
      "              precision    recall  f1-score   support\n",
      "\n",
      "           0       1.00      1.00      1.00        14\n",
      "           1       1.00      1.00      1.00        14\n",
      "           2       1.00      1.00      1.00         8\n",
      "\n",
      "    accuracy                           1.00        36\n",
      "   macro avg       1.00      1.00      1.00        36\n",
      "weighted avg       1.00      1.00      1.00        36\n",
      "\n",
      "Model: SVM\n",
      "              precision    recall  f1-score   support\n",
      "\n",
      "           0       1.00      1.00      1.00        14\n",
      "           1       1.00      1.00      1.00        14\n",
      "           2       1.00      1.00      1.00         8\n",
      "\n",
      "    accuracy                           1.00        36\n",
      "   macro avg       1.00      1.00      1.00        36\n",
      "weighted avg       1.00      1.00      1.00        36\n",
      "\n",
      "Model: SGD Classifier\n",
      "              precision    recall  f1-score   support\n",
      "\n",
      "           0       1.00      1.00      1.00        14\n",
      "           1       1.00      1.00      1.00        14\n",
      "           2       1.00      1.00      1.00         8\n",
      "\n",
      "    accuracy                           1.00        36\n",
      "   macro avg       1.00      1.00      1.00        36\n",
      "weighted avg       1.00      1.00      1.00        36\n",
      "\n",
      "Model: Logistic Regression\n",
      "              precision    recall  f1-score   support\n",
      "\n",
      "           0       1.00      1.00      1.00        14\n",
      "           1       1.00      1.00      1.00        14\n",
      "           2       1.00      1.00      1.00         8\n",
      "\n",
      "    accuracy                           1.00        36\n",
      "   macro avg       1.00      1.00      1.00        36\n",
      "weighted avg       1.00      1.00      1.00        36\n",
      "\n"
     ]
    }
   ],
   "source": [
    "models = {'Decision Tree': dt, 'Random Forest': rf, 'SVM': svm, 'SGD Classifier': sgd, 'Logistic Regression': lr}\n",
    "for name, model in models.items():\n",
    "    print(f\"Model: {name}\")\n",
    "    # 모델 학습\n",
    "    model.fit(X_train, y_train)\n",
    "\n",
    "    # 테스트 데이터에 대한 예측\n",
    "    y_pred = model.predict(X_test)\n",
    "\n",
    "    # 성능 지표 출력\n",
    "    print(classification_report(y_test, y_pred))"
   ]
  },
  {
   "cell_type": "code",
   "execution_count": null,
   "id": "35dafbed",
   "metadata": {},
   "outputs": [],
   "source": []
  },
  {
   "cell_type": "code",
   "execution_count": null,
   "id": "c291f179",
   "metadata": {},
   "outputs": [],
   "source": []
  }
 ],
 "metadata": {
  "kernelspec": {
   "display_name": "Python 3 (ipykernel)",
   "language": "python",
   "name": "python3"
  },
  "language_info": {
   "codemirror_mode": {
    "name": "ipython",
    "version": 3
   },
   "file_extension": ".py",
   "mimetype": "text/x-python",
   "name": "python",
   "nbconvert_exporter": "python",
   "pygments_lexer": "ipython3",
   "version": "3.9.7"
  }
 },
 "nbformat": 4,
 "nbformat_minor": 5
}
