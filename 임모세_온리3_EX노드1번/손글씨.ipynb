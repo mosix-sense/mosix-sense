{
 "cells": [
  {
   "cell_type": "code",
   "execution_count": 1,
   "id": "429da3b9",
   "metadata": {},
   "outputs": [],
   "source": [
    "from sklearn.datasets import load_digits\n",
    "from sklearn.model_selection import train_test_split\n",
    "from sklearn.tree import DecisionTreeClassifier\n",
    "from sklearn.ensemble import RandomForestClassifier\n",
    "from sklearn.svm import SVC\n",
    "from sklearn.linear_model import SGDClassifier, LogisticRegression\n",
    "from sklearn.metrics import classification_report\n",
    "from sklearn.preprocessing import MinMaxScaler"
   ]
  },
  {
   "cell_type": "markdown",
   "id": "f8912053",
   "metadata": {},
   "source": [
    "### 데이터 불러오고 다듬기"
   ]
  },
  {
   "cell_type": "code",
   "execution_count": 2,
   "id": "17fa1c46",
   "metadata": {},
   "outputs": [],
   "source": [
    "# 손글씨 데이터 불러오기\n",
    "digits = load_digits()\n",
    "\n",
    "# Feature Data 지정하기\n",
    "X = digits.data\n",
    "\n",
    "# Label Data 지정하기\n",
    "y = digits.target\n",
    "\n",
    "# Feature Data 스케일링\n",
    "scaler = MinMaxScaler()\n",
    "X_scaled = scaler.fit_transform(X)\n",
    "\n",
    "# Feature Data와 Label Data를 학습 데이터와 테스트 데이터로 나누기\n",
    "X_train, X_test, y_train, y_test = train_test_split(X_scaled, y, test_size=0.2, random_state=42)\n"
   ]
  },
  {
   "cell_type": "markdown",
   "id": "59d8fc32",
   "metadata": {},
   "source": [
    "### 모델생성"
   ]
  },
  {
   "cell_type": "code",
   "execution_count": 3,
   "id": "01da0c04",
   "metadata": {},
   "outputs": [],
   "source": [
    "# 의사결정트리 모델 생성\n",
    "dt = DecisionTreeClassifier(random_state=42)\n",
    "\n",
    "# 랜덤포레스트 모델 생성\n",
    "rf = RandomForestClassifier(random_state=42)\n",
    "\n",
    "# SVM 모델 생성\n",
    "svm = SVC(random_state=42)\n",
    "\n",
    "# SGD Classifier 모델 생성\n",
    "sgd = SGDClassifier(random_state=42)\n",
    "\n",
    "# Logistic Regression 모델 생성\n",
    "lr = LogisticRegression(random_state=42, max_iter=10000)"
   ]
  },
  {
   "cell_type": "markdown",
   "id": "267a933e",
   "metadata": {},
   "source": [
    "### 각 모델 학습 및 예측"
   ]
  },
  {
   "cell_type": "code",
   "execution_count": 4,
   "id": "9e236085",
   "metadata": {},
   "outputs": [
    {
     "name": "stdout",
     "output_type": "stream",
     "text": [
      "Model: Decision Tree\n",
      "              precision    recall  f1-score   support\n",
      "\n",
      "           0       0.97      0.88      0.92        33\n",
      "           1       0.85      0.79      0.81        28\n",
      "           2       0.86      0.73      0.79        33\n",
      "           3       0.76      0.85      0.81        34\n",
      "           4       0.84      0.91      0.87        46\n",
      "           5       0.89      0.85      0.87        47\n",
      "           6       0.97      0.91      0.94        35\n",
      "           7       0.82      0.91      0.86        34\n",
      "           8       0.75      0.70      0.72        30\n",
      "           9       0.75      0.82      0.79        40\n",
      "\n",
      "    accuracy                           0.84       360\n",
      "   macro avg       0.84      0.84      0.84       360\n",
      "weighted avg       0.85      0.84      0.84       360\n",
      "\n",
      "Model: Random Forest\n",
      "              precision    recall  f1-score   support\n",
      "\n",
      "           0       1.00      0.97      0.98        33\n",
      "           1       0.97      1.00      0.98        28\n",
      "           2       1.00      1.00      1.00        33\n",
      "           3       1.00      0.94      0.97        34\n",
      "           4       0.98      1.00      0.99        46\n",
      "           5       0.94      0.96      0.95        47\n",
      "           6       0.97      0.97      0.97        35\n",
      "           7       0.97      0.97      0.97        34\n",
      "           8       0.97      0.97      0.97        30\n",
      "           9       0.95      0.95      0.95        40\n",
      "\n",
      "    accuracy                           0.97       360\n",
      "   macro avg       0.97      0.97      0.97       360\n",
      "weighted avg       0.97      0.97      0.97       360\n",
      "\n",
      "Model: SVM\n",
      "              precision    recall  f1-score   support\n",
      "\n",
      "           0       1.00      1.00      1.00        33\n",
      "           1       1.00      1.00      1.00        28\n",
      "           2       1.00      1.00      1.00        33\n",
      "           3       1.00      0.97      0.99        34\n",
      "           4       1.00      1.00      1.00        46\n",
      "           5       0.96      0.98      0.97        47\n",
      "           6       0.97      1.00      0.99        35\n",
      "           7       0.97      0.97      0.97        34\n",
      "           8       1.00      0.97      0.98        30\n",
      "           9       0.95      0.95      0.95        40\n",
      "\n",
      "    accuracy                           0.98       360\n",
      "   macro avg       0.99      0.98      0.98       360\n",
      "weighted avg       0.98      0.98      0.98       360\n",
      "\n",
      "Model: SGD Classifier\n",
      "              precision    recall  f1-score   support\n",
      "\n",
      "           0       1.00      1.00      1.00        33\n",
      "           1       0.95      0.75      0.84        28\n",
      "           2       0.94      1.00      0.97        33\n",
      "           3       1.00      0.94      0.97        34\n",
      "           4       1.00      0.96      0.98        46\n",
      "           5       0.94      0.94      0.94        47\n",
      "           6       0.94      0.97      0.96        35\n",
      "           7       1.00      0.97      0.99        34\n",
      "           8       0.76      0.97      0.85        30\n",
      "           9       0.93      0.93      0.93        40\n",
      "\n",
      "    accuracy                           0.94       360\n",
      "   macro avg       0.95      0.94      0.94       360\n",
      "weighted avg       0.95      0.94      0.94       360\n",
      "\n",
      "Model: Logistic Regression\n",
      "              precision    recall  f1-score   support\n",
      "\n",
      "           0       1.00      1.00      1.00        33\n",
      "           1       0.96      0.96      0.96        28\n",
      "           2       0.97      1.00      0.99        33\n",
      "           3       1.00      0.97      0.99        34\n",
      "           4       1.00      0.98      0.99        46\n",
      "           5       0.91      0.91      0.91        47\n",
      "           6       0.97      0.97      0.97        35\n",
      "           7       1.00      0.97      0.99        34\n",
      "           8       0.97      0.97      0.97        30\n",
      "           9       0.90      0.95      0.93        40\n",
      "\n",
      "    accuracy                           0.97       360\n",
      "   macro avg       0.97      0.97      0.97       360\n",
      "weighted avg       0.97      0.97      0.97       360\n",
      "\n"
     ]
    }
   ],
   "source": [
    "models = {'Decision Tree': dt, 'Random Forest': rf, 'SVM': svm, 'SGD Classifier': sgd, 'Logistic Regression': lr}\n",
    "for name, model in models.items():\n",
    "    print(f\"Model: {name}\")\n",
    "    # 모델 학습\n",
    "    model.fit(X_train, y_train)\n",
    "\n",
    "    # 테스트 데이터에 대한 예측\n",
    "    y_pred = model.predict(X_test)\n",
    "\n",
    "    # 성능 지표 출력\n",
    "    print(classification_report(y_test, y_pred))"
   ]
  },
  {
   "cell_type": "code",
   "execution_count": null,
   "id": "4ed0e9ae",
   "metadata": {},
   "outputs": [],
   "source": []
  }
 ],
 "metadata": {
  "kernelspec": {
   "display_name": "Python 3 (ipykernel)",
   "language": "python",
   "name": "python3"
  },
  "language_info": {
   "codemirror_mode": {
    "name": "ipython",
    "version": 3
   },
   "file_extension": ".py",
   "mimetype": "text/x-python",
   "name": "python",
   "nbconvert_exporter": "python",
   "pygments_lexer": "ipython3",
   "version": "3.9.7"
  }
 },
 "nbformat": 4,
 "nbformat_minor": 5
}
