{
 "cells": [
  {
   "cell_type": "markdown",
   "id": "22de0539",
   "metadata": {},
   "source": [
    "## 파일 읽기 & 리사이징"
   ]
  },
  {
   "cell_type": "code",
   "execution_count": 12,
   "id": "0e862526",
   "metadata": {},
   "outputs": [],
   "source": [
    "import tensorflow as tf\n",
    "import numpy as np\n",
    "import zipfile\n",
    "from PIL import Image\n",
    "from tensorflow.keras.models import Sequential\n",
    "from tensorflow.keras.layers import Conv2D, MaxPooling2D, Flatten, Dense, Dropout\n",
    "from sklearn.model_selection import train_test_split\n",
    "\n",
    "# 이미지를 읽어와 크기를 변경하는 함수\n",
    "def resize_images(zip_path):\n",
    "    with zipfile.ZipFile(zip_path, 'r') as zip_ref:\n",
    "        # zip 파일 안의 모든 파일에 대해 순회하며 이미지를 읽어와 크기를 변경하여 numpy 배열로 저장\n",
    "        return np.array([np.array(Image.open(zip_ref.open(file)).convert(\"RGB\").resize((28, 28))) for file in zip_ref.namelist()])\n",
    "\n",
    "# 바위, 가위, 보 이미지 압축 파일 경로 지정\n",
    "rock_path = \"/aiffel/aiffel/rock.zip\"\n",
    "scissor_path = \"/aiffel/aiffel/scissor.zip\"\n",
    "paper_path = \"/aiffel/aiffel/paper.zip\"\n",
    "\n",
    "# 바위, 가위, 보 이미지 압축 파일에서 이미지를 읽어와 크기를 변경하여 numpy 배열로 저장\n",
    "rock_images = resize_images(rock_path)\n",
    "scissor_images = resize_images(scissor_path)\n",
    "paper_images = resize_images(paper_path)\n",
    "\n"
   ]
  },
  {
   "cell_type": "markdown",
   "id": "60f7620c",
   "metadata": {},
   "source": [
    "## CNN 생성함수"
   ]
  },
  {
   "cell_type": "code",
   "execution_count": 13,
   "id": "c2b90fd4",
   "metadata": {},
   "outputs": [
    {
     "name": "stdout",
     "output_type": "stream",
     "text": [
      "Model: \"sequential_4\"\n",
      "_________________________________________________________________\n",
      "Layer (type)                 Output Shape              Param #   \n",
      "=================================================================\n",
      "conv2d_8 (Conv2D)            (None, 26, 26, 32)        896       \n",
      "_________________________________________________________________\n",
      "max_pooling2d_8 (MaxPooling2 (None, 13, 13, 32)        0         \n",
      "_________________________________________________________________\n",
      "conv2d_9 (Conv2D)            (None, 11, 11, 64)        18496     \n",
      "_________________________________________________________________\n",
      "max_pooling2d_9 (MaxPooling2 (None, 5, 5, 64)          0         \n",
      "_________________________________________________________________\n",
      "flatten_4 (Flatten)          (None, 1600)              0         \n",
      "_________________________________________________________________\n",
      "dense_8 (Dense)              (None, 128)               204928    \n",
      "_________________________________________________________________\n",
      "dropout_4 (Dropout)          (None, 128)               0         \n",
      "_________________________________________________________________\n",
      "dense_9 (Dense)              (None, 3)                 387       \n",
      "=================================================================\n",
      "Total params: 224,707\n",
      "Trainable params: 224,707\n",
      "Non-trainable params: 0\n",
      "_________________________________________________________________\n"
     ]
    }
   ],
   "source": [
    "# CNN 모델 생성 함수\n",
    "def create_model():\n",
    "    model = Sequential([\n",
    "        Conv2D(32, kernel_size=(3, 3), activation='relu', input_shape=(28, 28, 3)),\n",
    "        MaxPooling2D(pool_size=(2, 2)),\n",
    "        Conv2D(64, kernel_size=(3, 3), activation='relu'),\n",
    "        MaxPooling2D(pool_size=(2, 2)),\n",
    "        Flatten(),\n",
    "        Dense(128, activation='relu'),\n",
    "        Dropout(0.5), # 과적합 방지를 위해 드롭아웃\n",
    "        Dense(3, activation='softmax')\n",
    "    ])\n",
    "    # 모델 컴파일\n",
    "    model.compile(optimizer='adam', loss='sparse_categorical_crossentropy', metrics=['accuracy'])\n",
    "    return model\n",
    "\n",
    "# CNN 모델 생성\n",
    "model = create_model()\n",
    "# 모델 구조 출력\n",
    "model.summary()\n",
    "\n"
   ]
  },
  {
   "cell_type": "markdown",
   "id": "d929f0bf",
   "metadata": {},
   "source": [
    "## 데이터 배열생성"
   ]
  },
  {
   "cell_type": "code",
   "execution_count": 14,
   "id": "0aed3736",
   "metadata": {},
   "outputs": [],
   "source": [
    "# 가위, 바위, 보 이미지 배열을 합쳐서 X 배열 생성\n",
    "X = np.concatenate((scissor_images, rock_images, paper_images), axis=0)\n",
    "# 가위(0), 바위(1), 보(2) 라벨 배열을 합쳐서 y 배열 생성\n",
    "y = np.concatenate((np.zeros(len(scissor_images)), np.ones(len(rock_images)), np.full(len(paper_images), 2)), axis=0)"
   ]
  },
  {
   "cell_type": "markdown",
   "id": "d2007cb3",
   "metadata": {},
   "source": [
    "## 데이터 정규화 및 분리"
   ]
  },
  {
   "cell_type": "code",
   "execution_count": 15,
   "id": "02fc2c8a",
   "metadata": {},
   "outputs": [],
   "source": [
    "# 이미지 배열을 0~1 사이 값으로 정규화\n",
    "X = X.astype('float32') / 255.0\n",
    "# 학습용 데이터와 검증용 데이터로 나눔\n",
    "X_train, X_test, y_train, y_test = train_test_split(X, y, test_size=0.2, random_state=42)\n",
    "\n"
   ]
  },
  {
   "cell_type": "markdown",
   "id": "cdd58ec1",
   "metadata": {},
   "source": [
    "## 학습 및 평가"
   ]
  },
  {
   "cell_type": "code",
   "execution_count": 16,
   "id": "97887aa4",
   "metadata": {},
   "outputs": [
    {
     "name": "stdout",
     "output_type": "stream",
     "text": [
      "Epoch 1/10\n",
      "8/8 [==============================] - 0s 22ms/step - loss: 1.1308 - accuracy: 0.4458 - val_loss: 1.0296 - val_accuracy: 0.3667\n",
      "Epoch 2/10\n",
      "8/8 [==============================] - 0s 6ms/step - loss: 1.0022 - accuracy: 0.5417 - val_loss: 0.9063 - val_accuracy: 0.9333\n",
      "Epoch 3/10\n",
      "8/8 [==============================] - 0s 6ms/step - loss: 0.8465 - accuracy: 0.7750 - val_loss: 0.6435 - val_accuracy: 0.9833\n",
      "Epoch 4/10\n",
      "8/8 [==============================] - 0s 6ms/step - loss: 0.5792 - accuracy: 0.8958 - val_loss: 0.3436 - val_accuracy: 1.0000\n",
      "Epoch 5/10\n",
      "8/8 [==============================] - 0s 6ms/step - loss: 0.3309 - accuracy: 0.9458 - val_loss: 0.1648 - val_accuracy: 1.0000\n",
      "Epoch 6/10\n",
      "8/8 [==============================] - 0s 6ms/step - loss: 0.2273 - accuracy: 0.9375 - val_loss: 0.0925 - val_accuracy: 0.9833\n",
      "Epoch 7/10\n",
      "8/8 [==============================] - 0s 6ms/step - loss: 0.1381 - accuracy: 0.9625 - val_loss: 0.0516 - val_accuracy: 1.0000\n",
      "Epoch 8/10\n",
      "8/8 [==============================] - 0s 6ms/step - loss: 0.0987 - accuracy: 0.9792 - val_loss: 0.0255 - val_accuracy: 1.0000\n",
      "Epoch 9/10\n",
      "8/8 [==============================] - 0s 6ms/step - loss: 0.0517 - accuracy: 1.0000 - val_loss: 0.0200 - val_accuracy: 1.0000\n",
      "Epoch 10/10\n",
      "8/8 [==============================] - 0s 6ms/step - loss: 0.0518 - accuracy: 0.9792 - val_loss: 0.0072 - val_accuracy: 1.0000\n",
      "Test accuracy: 1.0\n"
     ]
    }
   ],
   "source": [
    "# 모델 학습\n",
    "history = model.fit(X_train, y_train, validation_data=(X_test, y_test), epochs=10, batch_size=32)\n",
    "\n",
    "# 학습된 모델 평가\n",
    "_, accuracy = model.evaluate(X_test, y_test, verbose=0)\n",
    "print('Test accuracy:', accuracy)"
   ]
  },
  {
   "cell_type": "markdown",
   "id": "42c3779b",
   "metadata": {},
   "source": [
    "## 손실,정확도 시각화"
   ]
  },
  {
   "cell_type": "code",
   "execution_count": 17,
   "id": "e81eadaf",
   "metadata": {},
   "outputs": [
    {
     "data": {
      "image/png": "[encoded data removed]",
      "text/plain": [
       "<Figure size 432x288 with 1 Axes>"
      ]
     },
     "metadata": {
      "needs_background": "light"
     },
     "output_type": "display_data"
    },
    {
     "data": {
      "image/png": "[encoded data removed]",
      "text/plain": [
       "<Figure size 432x288 with 1 Axes>"
      ]
     },
     "metadata": {
      "needs_background": "light"
     },
     "output_type": "display_data"
    }
   ],
   "source": [
    "import matplotlib.pyplot as plt\n",
    "\n",
    "# 손실값 그래프\n",
    "plt.plot(history.history['loss'], 'b-', label='train loss')\n",
    "plt.plot(history.history['val_loss'], 'r--', label='val loss')\n",
    "plt.xlabel('Epoch')\n",
    "plt.ylabel('Loss')\n",
    "plt.legend()\n",
    "plt.show()\n",
    "\n",
    "# 정확도 그래프\n",
    "plt.plot(history.history['accuracy'], 'g-', label='train accuracy')\n",
    "plt.plot(history.history['val_accuracy'], 'k--', label='val accuracy')\n",
    "plt.xlabel('Epoch')\n",
    "plt.ylabel('Accuracy')\n",
    "plt.legend()\n",
    "plt.show()"
   ]
  },
  {
   "cell_type": "code",
   "execution_count": null,
   "id": "9230ed28",
   "metadata": {},
   "outputs": [],
   "source": []
  }
 ],
 "metadata": {
  "kernelspec": {
   "display_name": "Python 3 (ipykernel)",
   "language": "python",
   "name": "python3"
  },
  "language_info": {
   "codemirror_mode": {
    "name": "ipython",
    "version": 3
   },
   "file_extension": ".py",
   "mimetype": "text/x-python",
   "name": "python",
   "nbconvert_exporter": "python",
   "pygments_lexer": "ipython3",
   "version": "3.9.7"
  }
 },
 "nbformat": 4,
 "nbformat_minor": 5
}
