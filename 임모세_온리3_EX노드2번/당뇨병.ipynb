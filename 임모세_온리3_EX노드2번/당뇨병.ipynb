{
 "cells": [
  {
   "cell_type": "code",
   "execution_count": 25,
   "id": "8bed43ba",
   "metadata": {},
   "outputs": [],
   "source": [
    "import numpy as np\n",
    "import matplotlib.pyplot as plt\n",
    "from sklearn.datasets import load_diabetes\n",
    "from sklearn.model_selection import train_test_split"
   ]
  },
  {
   "cell_type": "markdown",
   "id": "0ccb44b3",
   "metadata": {},
   "source": [
    "### 데이터 로드 및 전처리"
   ]
  },
  {
   "cell_type": "code",
   "execution_count": 26,
   "id": "57b1113e",
   "metadata": {},
   "outputs": [],
   "source": [
    "diabetes = load_diabetes()\n",
    "df_X, df_y = diabetes.data, diabetes.target\n",
    "X = np.array(df_X)\n",
    "y = np.array(df_y)"
   ]
  },
  {
   "cell_type": "markdown",
   "id": "c106aecc",
   "metadata": {},
   "source": [
    "### 테스트,트레인셋 나누기\n"
   ]
  },
  {
   "cell_type": "code",
   "execution_count": 27,
   "id": "678780de",
   "metadata": {},
   "outputs": [],
   "source": [
    "X_train, X_test, y_train, y_test = train_test_split(X, y, test_size=0.2, random_state=42)\n",
    "\n"
   ]
  },
  {
   "cell_type": "markdown",
   "id": "e3290337",
   "metadata": {},
   "source": [
    "### 가중치와 편향 초기화\n",
    "\n"
   ]
  },
  {
   "cell_type": "code",
   "execution_count": 28,
   "id": "581d638d",
   "metadata": {},
   "outputs": [],
   "source": [
    "W = np.random.randn(X_train.shape[1])\n",
    "b = np.random.randn()\n",
    "\n"
   ]
  },
  {
   "cell_type": "markdown",
   "id": "5881674e",
   "metadata": {},
   "source": [
    "### 모델정의\n"
   ]
  },
  {
   "cell_type": "code",
   "execution_count": 29,
   "id": "e432e8ca",
   "metadata": {},
   "outputs": [],
   "source": [
    "def model(X, W, b):\n",
    "    return X @ W + b\n",
    "\n"
   ]
  },
  {
   "cell_type": "markdown",
   "id": "896031b9",
   "metadata": {},
   "source": [
    "### MSE정의\n"
   ]
  },
  {
   "cell_type": "code",
   "execution_count": 30,
   "id": "af240f1e",
   "metadata": {},
   "outputs": [],
   "source": [
    "def mse_loss(y_true, y_pred):\n",
    "    return np.mean((y_true - y_pred) ** 2)"
   ]
  },
  {
   "cell_type": "markdown",
   "id": "b3741e3f",
   "metadata": {},
   "source": [
    "### 기울기함수 정의"
   ]
  },
  {
   "cell_type": "code",
   "execution_count": 31,
   "id": "2455ca97",
   "metadata": {},
   "outputs": [],
   "source": [
    "def gradients(X, y_true, y_pred):\n",
    "    m = X.shape[0]\n",
    "    dW = -2 * np.dot(X.T, (y_true - y_pred)) / m\n",
    "    db = -2 * np.sum(y_true - y_pred) / m\n",
    "    return dW, db"
   ]
  },
  {
   "cell_type": "markdown",
   "id": "e81f79b4",
   "metadata": {},
   "source": [
    "### 학습 및 테스트"
   ]
  },
  {
   "cell_type": "code",
   "execution_count": 32,
   "id": "044b41f9",
   "metadata": {},
   "outputs": [
    {
     "name": "stdout",
     "output_type": "stream",
     "text": [
      "Epoch 0, Loss: 29518.906592210813\n",
      "Epoch 5000, Loss: 4010.437907850962\n",
      "Epoch 10000, Loss: 3444.8547044622155\n",
      "Epoch 15000, Loss: 3215.5067851497183\n",
      "Epoch 20000, Loss: 3094.5282019922515\n",
      "Epoch 25000, Loss: 3023.1493820044357\n",
      "Epoch 30000, Loss: 2979.1728829657277\n",
      "Epoch 35000, Loss: 2951.487221294419\n",
      "Epoch 40000, Loss: 2933.777478430376\n",
      "Epoch 45000, Loss: 2922.278593499094\n",
      "Epoch 50000, Loss: 2914.6977048786493\n",
      "Converged at epoch 52609, Loss: 2911.8010778020875\n",
      "Test Loss: 2868.153857755411\n"
     ]
    }
   ],
   "source": [
    "# 학습률\n",
    "learning_rate = 0.01\n",
    "\n",
    "# 학습실행\n",
    "n_epochs = 100000\n",
    "loss_prev = float(\"inf\")\n",
    "tolerance = 0.001\n",
    "\n",
    "for epoch in range(n_epochs):\n",
    "    y_pred = model(X_train, W, b)\n",
    "    loss = mse_loss(y_train, y_pred)\n",
    "    dW, db = gradients(X_train, y_train, y_pred)\n",
    "\n",
    "    W -= learning_rate * dW\n",
    "    b -= learning_rate * db\n",
    "\n",
    "    if epoch % 5000 == 0:\n",
    "        print(f\"Epoch {epoch}, Loss: {loss}\")\n",
    "\n",
    "    if abs(loss_prev - loss) < tolerance:\n",
    "        print(f\"Converged at epoch {epoch}, Loss: {loss}\")\n",
    "        break\n",
    "\n",
    "    loss_prev = loss\n",
    "\n",
    "# 테스트\n",
    "y_test_pred = model(X_test, W, b)\n",
    "test_loss = mse_loss(y_test, y_test_pred)\n",
    "print(f\"Test Loss: {test_loss}\")\n",
    "\n"
   ]
  },
  {
   "cell_type": "markdown",
   "id": "a05ab43f",
   "metadata": {},
   "source": [
    "### 시각화"
   ]
  },
  {
   "cell_type": "code",
   "execution_count": 13,
   "id": "3b8b6493",
   "metadata": {},
   "outputs": [
    {
     "data": {
      "image/png": "[encoded data removed]",
      "text/plain": [
       "<Figure size 432x288 with 1 Axes>"
      ]
     },
     "metadata": {
      "needs_background": "light"
     },
     "output_type": "display_data"
    }
   ],
   "source": [
    "plt.scatter(X_test[:, 0], y_test, label=\"Test Data\", alpha=0.5)\n",
    "plt.scatter(X_test[:, 0], model(X_test, W, b), label=\"Test Predictions\", alpha=0.5)\n",
    "\n",
    "plt.xlabel(\"Age\")\n",
    "plt.ylabel(\"progression of diabetes\")\n",
    "plt.legend()\n",
    "plt.show()"
   ]
  },
  {
   "cell_type": "code",
   "execution_count": null,
   "id": "a51268e2",
   "metadata": {},
   "outputs": [],
   "source": []
  }
 ],
 "metadata": {
  "kernelspec": {
   "display_name": "Python 3 (ipykernel)",
   "language": "python",
   "name": "python3"
  },
  "language_info": {
   "codemirror_mode": {
    "name": "ipython",
    "version": 3
   },
   "file_extension": ".py",
   "mimetype": "text/x-python",
   "name": "python",
   "nbconvert_exporter": "python",
   "pygments_lexer": "ipython3",
   "version": "3.9.7"
  }
 },
 "nbformat": 4,
 "nbformat_minor": 5
}
