{
 "cells": [
  {
   "cell_type": "code",
   "execution_count": 13,
   "id": "222c9872",
   "metadata": {},
   "outputs": [
    {
     "name": "stdout",
     "output_type": "stream",
     "text": [
      "주말 전력 사용량 평균: 2086.3884733016316\n",
      "주중 전력 사용량 평균: 2418.6442662226004\n"
     ]
    },
    {
     "data": {
      "image/png": "[encoded data removed]",
      "text/plain": [
       "<Figure size 432x288 with 1 Axes>"
      ]
     },
     "metadata": {},
     "output_type": "display_data"
    }
   ],
   "source": [
    "import pandas as pd\n",
    "import seaborn as sns\n",
    "import matplotlib.pyplot as plt\n",
    "\n",
    "# 데이터 불러오기\n",
    "df = pd.read_csv('~/aiffel/datathon/train.csv', encoding='cp949')\n",
    "\n",
    "# date_time 칼럼을 datetime 형식으로 변환\n",
    "df['date_time'] = pd.to_datetime(df['date_time'])\n",
    "\n",
    "# 요일 정보 추출 (0: 월요일, 1: 화요일, ..., 6: 일요일)\n",
    "df['weekday'] = df['date_time'].dt.weekday\n",
    "\n",
    "# 주말(토요일, 일요일)과 주중(월요일 ~ 금요일) 구분\n",
    "df['is_weekend'] = df['weekday'].apply(lambda x: 1 if x >= 5 else 0)\n",
    "\n",
    "# 주말과 주중의 전력 사용량 평균 계산\n",
    "average_power_usage_weekend = df[df['is_weekend'] == 1]['전력사용량(kWh)'].mean()\n",
    "average_power_usage_weekday = df[df['is_weekend'] == 0]['전력사용량(kWh)'].mean()\n",
    "\n",
    "print(\"주말 전력 사용량 평균:\", average_power_usage_weekend)\n",
    "print(\"주중 전력 사용량 평균:\", average_power_usage_weekday)\n",
    "\n",
    "# 결과 시각화\n",
    "sns.barplot(x=['weekend', 'weekday'], y=[average_power_usage_weekend, average_power_usage_weekday])\n",
    "plt.ylabel('average of kWh')\n",
    "plt.show()\n"
   ]
  },
  {
   "cell_type": "code",
   "execution_count": null,
   "id": "d5087575",
   "metadata": {},
   "outputs": [],
   "source": []
  }
 ],
 "metadata": {
  "kernelspec": {
   "display_name": "Python 3 (ipykernel)",
   "language": "python",
   "name": "python3"
  },
  "language_info": {
   "codemirror_mode": {
    "name": "ipython",
    "version": 3
   },
   "file_extension": ".py",
   "mimetype": "text/x-python",
   "name": "python",
   "nbconvert_exporter": "python",
   "pygments_lexer": "ipython3",
   "version": "3.9.7"
  }
 },
 "nbformat": 4,
 "nbformat_minor": 5
}
